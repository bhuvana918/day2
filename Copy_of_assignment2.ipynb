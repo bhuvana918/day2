{
  "nbformat": 4,
  "nbformat_minor": 0,
  "metadata": {
    "colab": {
      "provenance": []
    },
    "kernelspec": {
      "name": "python3",
      "display_name": "Python 3"
    },
    "language_info": {
      "name": "python"
    }
  },
  "cells": [
    {
      "cell_type": "code",
      "execution_count": null,
      "metadata": {
        "colab": {
          "base_uri": "https://localhost:8080/"
        },
        "id": "_jpSPJoGrWtv",
        "outputId": "dd37e3f4-a144-4e90-a63e-cabf15d45140"
      },
      "outputs": [
        {
          "output_type": "stream",
          "name": "stdout",
          "text": [
            "Sorted List: ['Aman', 'Ram', 'Shyam', 1, 2, 3]\n"
          ]
        }
      ],
      "source": [
        "L = [\"Ram\", 1, \"Shyam\", 2, \"Aman\", 3]\n",
        "\n",
        "# Custom sort function to handle heterogeneous data\n",
        "def custom_sort(item):\n",
        "    if isinstance(item, str):\n",
        "        return (0, item)  # Sort strings alphabetically\n",
        "    else:\n",
        "        return (1, item)  # Sort numbers by their value\n",
        "\n",
        "# Sort the list using the custom sort function\n",
        "L.sort(key=custom_sort)\n",
        "\n",
        "print(\"Sorted List:\", L)\n"
      ]
    }
  ]
}