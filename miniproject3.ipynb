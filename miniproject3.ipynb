{
  "nbformat": 4,
  "nbformat_minor": 0,
  "metadata": {
    "colab": {
      "provenance": []
    },
    "kernelspec": {
      "name": "python3",
      "display_name": "Python 3"
    },
    "language_info": {
      "name": "python"
    }
  },
  "cells": [
    {
      "cell_type": "code",
      "execution_count": 1,
      "metadata": {
        "colab": {
          "base_uri": "https://localhost:8080/"
        },
        "id": "d9EdL-fFx0xd",
        "outputId": "fe37a3f7-5950-4cd9-8519-8a1bebe0c167"
      },
      "outputs": [
        {
          "output_type": "stream",
          "name": "stdout",
          "text": [
            "Generating large_text_200MB.txt...\n",
            "Converting large_text_200MB.txt to uppercase...\n",
            "Time taken for 200MB: 3.27 seconds\n",
            "Generating large_text_400MB.txt...\n",
            "Converting large_text_400MB.txt to uppercase...\n",
            "Time taken for 400MB: 4.73 seconds\n",
            "Generating large_text_600MB.txt...\n",
            "Converting large_text_600MB.txt to uppercase...\n",
            "Time taken for 600MB: 6.13 seconds\n",
            "Generating large_text_800MB.txt...\n",
            "Converting large_text_800MB.txt to uppercase...\n",
            "Time taken for 800MB: 10.52 seconds\n",
            "Generating large_text_1000MB.txt...\n",
            "Converting large_text_1000MB.txt to uppercase...\n",
            "Time taken for 1000MB: 10.55 seconds\n",
            "\n",
            "Results:\n",
            "200MB: 3.27 seconds\n",
            "400MB: 4.73 seconds\n",
            "600MB: 6.13 seconds\n",
            "800MB: 10.52 seconds\n",
            "1000MB: 10.55 seconds\n"
          ]
        }
      ],
      "source": [
        "import time\n",
        "import os\n",
        "\n",
        "def generate_large_text_file(file_name, size_mb):\n",
        "    \"\"\"Generate a large text file of the specified size in MB.\"\"\"\n",
        "    with open(file_name, 'w') as f:\n",
        "        for _ in range(size_mb * 1024 * 1024 // 100):\n",
        "            f.write('a' * 100 + '\\n')\n",
        "\n",
        "def convert_to_uppercase(file_name, output_file_name):\n",
        "    \"\"\"Convert the content of a file to uppercase and save to another file.\"\"\"\n",
        "    with open(file_name, 'r') as f:\n",
        "        content = f.read()\n",
        "    content_upper = content.upper()\n",
        "    with open(output_file_name, 'w') as f:\n",
        "        f.write(content_upper)\n",
        "\n",
        "def measure_conversion_time(file_name, output_file_name):\n",
        "    \"\"\"Measure the time taken to convert a file to uppercase.\"\"\"\n",
        "    start_time = time.time()\n",
        "    convert_to_uppercase(file_name, output_file_name)\n",
        "    end_time = time.time()\n",
        "    return end_time - start_time\n",
        "\n",
        "file_sizes_mb = [200, 400, 600, 800, 1000]\n",
        "results = {}\n",
        "\n",
        "# Generate the large text files\n",
        "for size_mb in file_sizes_mb:\n",
        "    file_name = f\"large_text_{size_mb}MB.txt\"\n",
        "    output_file_name = f\"uppercase_text_{size_mb}MB.txt\"\n",
        "\n",
        "    if not os.path.exists(file_name):\n",
        "        print(f\"Generating {file_name}...\")\n",
        "        generate_large_text_file(file_name, size_mb)\n",
        "\n",
        "    print(f\"Converting {file_name} to uppercase...\")\n",
        "    time_taken = measure_conversion_time(file_name, output_file_name)\n",
        "    results[size_mb] = time_taken\n",
        "    print(f\"Time taken for {size_mb}MB: {time_taken:.2f} seconds\")\n",
        "\n",
        "print(\"\\nResults:\")\n",
        "for size_mb, time_taken in results.items():\n",
        "    print(f\"{size_mb}MB: {time_taken:.2f} seconds\")\n"
      ]
    }
  ]
}