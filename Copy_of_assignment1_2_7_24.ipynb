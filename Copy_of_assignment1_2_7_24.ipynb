{
  "nbformat": 4,
  "nbformat_minor": 0,
  "metadata": {
    "colab": {
      "provenance": []
    },
    "kernelspec": {
      "name": "python3",
      "display_name": "Python 3"
    },
    "language_info": {
      "name": "python"
    }
  },
  "cells": [
    {
      "cell_type": "code",
      "execution_count": null,
      "metadata": {
        "colab": {
          "base_uri": "https://localhost:8080/"
        },
        "collapsed": true,
        "id": "94K39OkMecbe",
        "outputId": "3964c1b5-733a-482d-abad-b3734d013bbc"
      },
      "outputs": [
        {
          "output_type": "stream",
          "name": "stdout",
          "text": [
            "After adding 50 and 60: [11, 12, 13, 14, 50, 60]\n",
            "After removing 11 and 13: [12, 14, 50, 60]\n",
            "Sorted in ascending order: [12, 14, 50, 60]\n",
            "Sorted in descending order: [60, 50, 14, 12]\n",
            "Is 13 in the list? False\n",
            "Number of elements in L: 4\n",
            "Sum of all elements in L: 136\n",
            "Sum of all odd numbers in L: 0\n",
            "Sum of all even numbers in L: 136\n",
            "Sum of all prime numbers in L: 0\n",
            "After clearing all elements: []\n",
            "L deleted\n"
          ]
        }
      ],
      "source": [
        "\n",
        "\n",
        "\n",
        "\n"
      ]
    },
    {
      "cell_type": "code",
      "source": [
        "# Initial list\n",
        "L = [11, 12, 13, 14]\n",
        "\n",
        "# (i) Add 50 and 60 to L\n",
        "L.append(50)\n",
        "L.append(60)\n",
        "print(\"After adding 50 and 60:\", L)\n",
        "\n",
        "# (ii) Remove 11 and 13 from L\n",
        "L.remove(11)\n",
        "L.remove(13)\n",
        "print(\"After removing 11 and 13:\", L)\n",
        "\n",
        "# (iii) Sort L in ascending order\n",
        "L.sort()\n",
        "print(\"Sorted in ascending order:\", L)\n",
        "\n",
        "# (iv) Sort L in descending order\n",
        "L.sort(reverse=True)\n",
        "print(\"Sorted in descending order:\", L)\n",
        "\n",
        "# (v) Search for 13 in L\n",
        "is_13_in_list = 13 in L\n",
        "print(\"Is 13 in the list?\", is_13_in_list)\n",
        "\n",
        "# (vi) Count the number of elements present in L\n",
        "count_elements = len(L)\n",
        "print(\"Number of elements in L:\", count_elements)\n",
        "\n",
        "# (vii) Sum all the elements in L\n",
        "sum_elements = sum(L)\n",
        "print(\"Sum of all elements in L:\", sum_elements)\n",
        "\n",
        "# (viii) Sum all ODD numbers in L\n",
        "sum_odd = sum(x for x in L if x % 2 != 0)\n",
        "print(\"Sum of all odd numbers in L:\", sum_odd)\n",
        "\n",
        "# (ix) Sum all EVEN numbers in L\n",
        "sum_even = sum(x for x in L if x % 2 == 0)\n",
        "print(\"Sum of all even numbers in L:\", sum_even)\n",
        "\n",
        "# (x) Sum all PRIME numbers in L\n",
        "def is_prime(num):\n",
        "    if num < 2:\n",
        "        return False\n",
        "    for i in range(2, int(num**0.5) + 1):\n",
        "        if num % i == 0:\n",
        "            return False\n",
        "    return True\n",
        "\n",
        "sum_prime = sum(x for x in L if is_prime(x))\n",
        "print(\"Sum of all prime numbers in L:\", sum_prime)\n",
        "\n",
        "# (xi) Clear all the elements in L\n",
        "L.clear()\n",
        "print(\"After clearing all elements:\", L)\n",
        "\n",
        "# (xii) Delete L\n",
        "del L\n",
        "print(\"L deleted\")\n"
      ],
      "metadata": {
        "colab": {
          "base_uri": "https://localhost:8080/"
        },
        "id": "KR9oGC8Xfkv9",
        "outputId": "066bc27a-8d62-49c3-a683-680f92501d5e"
      },
      "execution_count": null,
      "outputs": [
        {
          "output_type": "stream",
          "name": "stdout",
          "text": [
            "After adding 50 and 60: [11, 12, 13, 14, 50, 60]\n",
            "After removing 11 and 13: [12, 14, 50, 60]\n",
            "Sorted in ascending order: [12, 14, 50, 60]\n",
            "Sorted in descending order: [60, 50, 14, 12]\n",
            "Is 13 in the list? False\n",
            "Number of elements in L: 4\n",
            "Sum of all elements in L: 136\n",
            "Sum of all odd numbers in L: 0\n",
            "Sum of all even numbers in L: 136\n",
            "Sum of all prime numbers in L: 0\n",
            "After clearing all elements: []\n",
            "L deleted\n"
          ]
        }
      ]
    },
    {
      "cell_type": "code",
      "source": [
        "# Initial dictionary\n",
        "D = {1: 5.6, 2: 7.8, 3: 6.6, 4: 8.7, 5: 7.7}\n",
        "\n",
        "# (i) Add new entry in D; key=8 and value=8.8\n",
        "D[8] = 8.8\n",
        "print(\"After adding key=8 and value=8.8:\", D)\n",
        "\n",
        "# (ii) Remove key=2\n",
        "if 2 in D:\n",
        "    del D[2]\n",
        "print(\"After removing key=2:\", D)\n",
        "\n",
        "# (iii) Check whether key=6 is present in D\n",
        "is_key_6_present = 6 in D\n",
        "print(\"Is key=6 present in D?\", is_key_6_present)\n",
        "\n",
        "# (iv) Count the number of elements present in D\n",
        "count_elements = len(D)\n",
        "print(\"Number of elements in D:\", count_elements)\n",
        "\n",
        "# (v) Sum all the values present in D\n",
        "sum_values = sum(D.values())\n",
        "print(\"Sum of all values in D:\", sum_values)\n"
      ],
      "metadata": {
        "colab": {
          "base_uri": "https://localhost:8080/"
        },
        "id": "KPSSuQeKfkyl",
        "outputId": "6aa965e6-fc7d-49c4-9192-8e27a08d4a79"
      },
      "execution_count": null,
      "outputs": [
        {
          "output_type": "stream",
          "name": "stdout",
          "text": [
            "After adding key=8 and value=8.8: {1: 5.6, 2: 7.8, 3: 6.6, 4: 8.7, 5: 7.7, 8: 8.8}\n",
            "After removing key=2: {1: 5.6, 3: 6.6, 4: 8.7, 5: 7.7, 8: 8.8}\n",
            "Is key=6 present in D? False\n",
            "Number of elements in D: 5\n",
            "Sum of all values in D: 37.4\n"
          ]
        }
      ]
    },
    {
      "cell_type": "code",
      "source": [
        "# Initial sets\n",
        "S1 = {10, 20, 30, 40, 50, 60}\n",
        "S2 = {40, 50, 60, 70, 80, 90}\n",
        "\n",
        "# (i) Add 55 and 66 to Set S1\n",
        "S1.add(55)\n",
        "S1.add(66)\n",
        "print(\"After adding 55 and 66 to S1:\", S1)\n",
        "\n",
        "# (ii) Remove 10 and 30 from Set S1\n",
        "S1.discard(10)\n",
        "S1.discard(30)\n",
        "print(\"After removing 10 and 30 from S1:\", S1)\n",
        "\n",
        "# (iii) Check whether 40 is present in S1\n",
        "is_40_in_S1 = 40 in S1\n",
        "print(\"Is 40 present in S1?\", is_40_in_S1)\n",
        "\n",
        "# (iv) Find the union between S1 and S2\n",
        "union_S1_S2 = S1.union(S2)\n",
        "print(\"Union of S1 and S2:\", union_S1_S2)\n",
        "\n",
        "# (v) Find the intersection between S1 and S2\n",
        "intersection_S1_S2 = S1.intersection(S2)\n",
        "print(\"Intersection of S1 and S2:\", intersection_S1_S2)\n",
        "\n",
        "# (vi) Find the difference S1 - S2\n",
        "difference_S1_S2 = S1.difference(S2)\n",
        "print(\"Difference S1 - S2:\", difference_S1_S2)\n"
      ],
      "metadata": {
        "colab": {
          "base_uri": "https://localhost:8080/"
        },
        "id": "IlIRDP7Dfk1s",
        "outputId": "a0aacf95-86f2-46d7-c835-fe6a41f3a89c"
      },
      "execution_count": null,
      "outputs": [
        {
          "output_type": "stream",
          "name": "stdout",
          "text": [
            "After adding 55 and 66 to S1: {50, 66, 20, 55, 40, 10, 60, 30}\n",
            "After removing 10 and 30 from S1: {50, 66, 20, 55, 40, 60}\n",
            "Is 40 present in S1? True\n",
            "Union of S1 and S2: {66, 70, 40, 80, 50, 20, 55, 90, 60}\n",
            "Intersection of S1 and S2: {40, 50, 60}\n",
            "Difference S1 - S2: {66, 20, 55}\n"
          ]
        }
      ]
    },
    {
      "cell_type": "code",
      "source": [
        "import random\n",
        "import string\n",
        "\n",
        "def generate_random_string(length):\n",
        "    letters = string.ascii_letters\n",
        "    return ''.join(random.choice(letters) for _ in range(length))\n",
        "\n",
        "random_strings = [generate_random_string(random.randint(6, 8)) for _ in range(100)]\n",
        "print(\"100 random strings of length between 6 and 8:\")\n",
        "for s in random_strings:\n",
        "    print(s)\n",
        "\n",
        "\n"
      ],
      "metadata": {
        "colab": {
          "base_uri": "https://localhost:8080/"
        },
        "id": "eV1Dkbnvfk4A",
        "outputId": "5013ace2-a595-403c-ff0d-fa691ec1dddb"
      },
      "execution_count": null,
      "outputs": [
        {
          "output_type": "stream",
          "name": "stdout",
          "text": [
            "100 random strings of length between 6 and 8:\n",
            "CbAyNt\n",
            "sZKQEg\n",
            "FCdUvPyh\n",
            "AYEQleA\n",
            "MuszTc\n",
            "xzkLyU\n",
            "CXanbJ\n",
            "yVuowVU\n",
            "qPRcEjBX\n",
            "rSHHYfco\n",
            "cDwrpr\n",
            "UjEpQmNl\n",
            "zlNCNRtZ\n",
            "xaOcFNk\n",
            "aORvME\n",
            "jqSqgzdk\n",
            "JiOfhVLS\n",
            "REhEphnF\n",
            "MoouSAz\n",
            "ywlXnm\n",
            "kiXFdpDL\n",
            "RyOqcZ\n",
            "ovpYTDbw\n",
            "pKqiGDQU\n",
            "kUFkXPkT\n",
            "AoAxwwL\n",
            "RXJEUlud\n",
            "OLNotsUg\n",
            "FttTQuEG\n",
            "TlpFnJ\n",
            "Cjsczg\n",
            "ooWWQSf\n",
            "eGuITtLe\n",
            "yjupkpv\n",
            "LPoIRtOf\n",
            "JKZvEXCv\n",
            "TQeKdMm\n",
            "LedXFgH\n",
            "TEkExD\n",
            "BhhCnhB\n",
            "jgsnYve\n",
            "YIvpPL\n",
            "VquqJMl\n",
            "QPAvBoC\n",
            "MmWBALA\n",
            "coXuuQ\n",
            "TWxjqZjb\n",
            "gfkreOld\n",
            "NKkCMbC\n",
            "YzYVmqBs\n",
            "KGfriI\n",
            "LYXvZt\n",
            "acQbzKb\n",
            "iFPmivX\n",
            "gAtiecqn\n",
            "smWYNrAz\n",
            "KeWnPR\n",
            "wWYDKI\n",
            "xystqPoV\n",
            "bGbUiIG\n",
            "eqXQjN\n",
            "UvrZZIgg\n",
            "pYtZwIU\n",
            "GOIpeyOH\n",
            "BLRZvg\n",
            "FfjkZVDr\n",
            "FUTARE\n",
            "qzWqxvN\n",
            "JMZYzVbm\n",
            "lsbXlQk\n",
            "SLQZvy\n",
            "qonFfx\n",
            "AEuSRU\n",
            "XSwAuEZl\n",
            "rqkmRtIB\n",
            "qVNgpHBK\n",
            "zvoJJC\n",
            "kcoohRWF\n",
            "TYpZyY\n",
            "hMbVTno\n",
            "zXnYfP\n",
            "fvVaPN\n",
            "tkwGfP\n",
            "nqQsZYt\n",
            "wyRwTXwT\n",
            "HbuLGdW\n",
            "IsbaEVQi\n",
            "SOVFQyv\n",
            "NTfNTo\n",
            "uipaMrCK\n",
            "cbFffK\n",
            "OYUsgZ\n",
            "wZCHjo\n",
            "pKvBOU\n",
            "TUpDGYi\n",
            "IvnmEncF\n",
            "lCRpEbDk\n",
            "DEqwCXwV\n",
            "yYKIYZci\n",
            "BVdCFLK\n"
          ]
        }
      ]
    },
    {
      "cell_type": "code",
      "source": [
        "def is_prime(n):\n",
        "    if n <= 1:\n",
        "        return False\n",
        "    for i in range(2, int(n ** 0.5) + 1):\n",
        "        if n % i == 0:\n",
        "            return False\n",
        "    return True\n",
        "\n",
        "primes = [n for n in range(600, 801) if is_prime(n)]\n",
        "print(\"Prime numbers between 600 and 800:\")\n",
        "print(primes)\n"
      ],
      "metadata": {
        "colab": {
          "base_uri": "https://localhost:8080/"
        },
        "id": "ClP1eoZ1fk7-",
        "outputId": "3b0a4d08-9262-4d7e-d1e6-cf2a1c741be7"
      },
      "execution_count": null,
      "outputs": [
        {
          "output_type": "stream",
          "name": "stdout",
          "text": [
            "Prime numbers between 600 and 800:\n",
            "[601, 607, 613, 617, 619, 631, 641, 643, 647, 653, 659, 661, 673, 677, 683, 691, 701, 709, 719, 727, 733, 739, 743, 751, 757, 761, 769, 773, 787, 797]\n"
          ]
        }
      ]
    },
    {
      "cell_type": "code",
      "source": [
        "numbers = [n for n in range(100, 1001) if n % 7 == 0 and n % 9 == 0]\n",
        "print(\"Numbers between 100 and 1000 that are divisible by both 7 and 9:\")\n",
        "print(numbers)\n"
      ],
      "metadata": {
        "colab": {
          "base_uri": "https://localhost:8080/"
        },
        "id": "naQ-VcbSfk9z",
        "outputId": "00e35862-e591-4354-c754-42667e11f9dd"
      },
      "execution_count": null,
      "outputs": [
        {
          "output_type": "stream",
          "name": "stdout",
          "text": [
            "Numbers between 100 and 1000 that are divisible by both 7 and 9:\n",
            "[126, 189, 252, 315, 378, 441, 504, 567, 630, 693, 756, 819, 882, 945]\n"
          ]
        }
      ]
    },
    {
      "cell_type": "code",
      "source": [
        "import random\n",
        "\n",
        "# Create two lists of 10 random numbers between 10 and 30\n",
        "list1 = [random.randint(10, 30) for _ in range(10)]\n",
        "list2 = [random.randint(10, 30) for _ in range(10)]\n",
        "\n",
        "print(\"List 1:\", list1)\n",
        "print(\"List 2:\", list2)\n",
        "\n",
        "# (i) Find common numbers in the two lists\n",
        "common_numbers = list(set(list1) & set(list2))\n",
        "print(\"Common numbers in both lists:\", common_numbers)\n",
        "\n",
        "# (ii) Find unique numbers in both lists\n",
        "unique_numbers = list(set(list1) ^ set(list2))\n",
        "print(\"Unique numbers in both lists:\", unique_numbers)\n",
        "\n",
        "# (iii) Find minimum in both lists\n",
        "min_list1 = min(list1)\n",
        "min_list2 = min(list2)\n",
        "print(\"Minimum in List 1:\", min_list1)\n",
        "print(\"Minimum in List 2:\", min_list2)\n",
        "\n",
        "# (iv) Find maximum in both lists\n",
        "max_list1 = max(list1)\n",
        "max_list2 = max(list2)\n",
        "print(\"Maximum in List 1:\", max_list1)\n",
        "print(\"Maximum in List 2:\", max_list2)\n",
        "\n",
        "# (v) Find sum of both lists\n",
        "sum_list1 = sum(list1)\n",
        "sum_list2 = sum(list2)\n",
        "print(\"Sum of List 1:\", sum_list1)\n",
        "print(\"Sum of List 2:\", sum_list2)\n"
      ],
      "metadata": {
        "colab": {
          "base_uri": "https://localhost:8080/"
        },
        "id": "QnM0fSY3flB3",
        "outputId": "32807ec2-846e-4300-e181-75350703cb84"
      },
      "execution_count": null,
      "outputs": [
        {
          "output_type": "stream",
          "name": "stdout",
          "text": [
            "List 1: [16, 29, 21, 24, 19, 13, 23, 28, 29, 24]\n",
            "List 2: [30, 14, 11, 12, 29, 24, 30, 27, 15, 27]\n",
            "Common numbers in both lists: [24, 29]\n",
            "Unique numbers in both lists: [11, 12, 13, 14, 15, 16, 19, 21, 23, 27, 28, 30]\n",
            "Minimum in List 1: 13\n",
            "Minimum in List 2: 11\n",
            "Maximum in List 1: 29\n",
            "Maximum in List 2: 30\n",
            "Sum of List 1: 226\n",
            "Sum of List 2: 219\n"
          ]
        }
      ]
    },
    {
      "cell_type": "code",
      "source": [],
      "metadata": {
        "id": "jVkOdbhZflD_"
      },
      "execution_count": null,
      "outputs": []
    },
    {
      "cell_type": "code",
      "source": [
        "# Initial dictionary\n",
        "D = {1: \"One\", 2: \"Two\", 3: \"Three\", 4: \"Four\", 5: \"Five\"}\n",
        "\n",
        "# Open a file in write mode\n",
        "with open(\"output.txt\", \"w\") as file:\n",
        "    # Iterate over the dictionary items\n",
        "    for key, value in D.items():\n",
        "        # Write each key-value pair in the specified format\n",
        "        file.write(f\"Key{key}, Value{value}\\n\")\n",
        "\n",
        "print(\"Dictionary keys and values have been written to 'output.txt' in the specified format.\")\n"
      ],
      "metadata": {
        "colab": {
          "base_uri": "https://localhost:8080/"
        },
        "id": "bNonsPbDflHa",
        "outputId": "ca05289e-f733-4b48-9600-1ed27a9a0df7"
      },
      "execution_count": null,
      "outputs": [
        {
          "output_type": "stream",
          "name": "stdout",
          "text": [
            "Dictionary keys and values have been written to 'output.txt' in the specified format.\n"
          ]
        }
      ]
    },
    {
      "cell_type": "code",
      "source": [
        "# Initial list\n",
        "L = [\"One\", \"Two\", \"Three\", \"Four\", \"Five\"]\n",
        "\n",
        "# Open a file in write mode\n",
        "with open(\"output_lengths.txt\", \"w\") as file:\n",
        "    # Iterate over the list\n",
        "    for item in L:\n",
        "        # Write each item and its length to the file in the specified format\n",
        "        file.write(f\"{item}, {len(item)}\\n\")\n",
        "\n",
        "print(\"Lengths of each element in the list have been written to 'output_lengths.txt' in the specified format.\")\n"
      ],
      "metadata": {
        "colab": {
          "base_uri": "https://localhost:8080/"
        },
        "id": "eOVhNYzkflJW",
        "outputId": "9729b720-1df3-4884-a8f3-86e50dc39097"
      },
      "execution_count": null,
      "outputs": [
        {
          "output_type": "stream",
          "name": "stdout",
          "text": [
            "Lengths of each element in the list have been written to 'output_lengths.txt' in the specified format.\n"
          ]
        }
      ]
    },
    {
      "cell_type": "code",
      "source": [
        "import random\n",
        "import string\n",
        "\n",
        "# Function to generate a random string of a given length\n",
        "def generate_random_string(length):\n",
        "    letters = string.ascii_letters  # Uppercase and lowercase letters\n",
        "    return ''.join(random.choice(letters) for _ in range(length))\n",
        "\n",
        "# Open a file in write mode\n",
        "with open(\"random_strings.txt\", \"w\") as file:\n",
        "    # Generate and write 100 random strings to the file\n",
        "    for _ in range(100):\n",
        "        length = random.randint(10, 15)\n",
        "        random_string = generate_random_string(length)\n",
        "        file.write(random_string + \"\\n\")\n",
        "\n",
        "print(\"100 random strings with lengths between 10 and 15 have been written to 'random_strings.txt'.\")\n"
      ],
      "metadata": {
        "colab": {
          "base_uri": "https://localhost:8080/"
        },
        "id": "ZKYh8LRMflNG",
        "outputId": "62cb1dc9-2c05-49d1-9cb2-e73fc68c4dc1"
      },
      "execution_count": null,
      "outputs": [
        {
          "output_type": "stream",
          "name": "stdout",
          "text": [
            "100 random strings with lengths between 10 and 15 have been written to 'random_strings.txt'.\n"
          ]
        }
      ]
    },
    {
      "cell_type": "code",
      "source": [
        "import time\n",
        "import matplotlib.pyplot as plt\n",
        "\n",
        "# Function to generate a list of given size with random numbers\n",
        "def generate_random_list(size):\n",
        "    return [random.randint(1, 1000) for _ in range(size)]\n",
        "\n",
        "# Function to measure sorting time for a list\n",
        "def measure_sorting_time(lst):\n",
        "    start_time = time.time()\n",
        "    lst.sort()\n",
        "    end_time = time.time()\n",
        "    return end_time - start_time\n",
        "\n",
        "# Sizes of lists to sort\n",
        "sizes = [5000, 10000, 15000, 20000, 25000]\n",
        "\n",
        "# Measure sorting times\n",
        "times_taken = []\n",
        "for size in sizes:\n",
        "    random_list = generate_random_list(size)\n",
        "    time_taken = measure_sorting_time(random_list)\n",
        "    times_taken.append(time_taken)\n",
        "\n",
        "# Plotting the graph\n",
        "plt.figure(figsize=(10, 6))\n",
        "plt.plot(sizes, times_taken, marker='o', linestyle='-', color='b', label='Sorting Time')\n",
        "plt.title('Sorting Time vs Number of Elements')\n",
        "plt.xlabel('Number of Elements')\n",
        "plt.ylabel('Time Taken (seconds)')\n",
        "plt.grid(True)\n",
        "plt.legend()\n",
        "plt.xticks(sizes)\n",
        "plt.tight_layout()\n",
        "plt.show()\n"
      ],
      "metadata": {
        "colab": {
          "base_uri": "https://localhost:8080/",
          "height": 607
        },
        "id": "T9tGZkmXjAhF",
        "outputId": "4f791a7d-f85e-4467-c9d4-efd28c652720"
      },
      "execution_count": null,
      "outputs": [
        {
          "output_type": "display_data",
          "data": {
            "text/plain": [
              "<Figure size 1000x600 with 1 Axes>"
            ],
            "image/png": "[encoded data removed]"
          },
          "metadata": {}
        }
      ]
    },
    {
      "cell_type": "code",
      "source": [
        "# Dictionary of student marks in five subjects\n",
        "student_marks = {\n",
        "    'John': [85, 92, 78, 88, 90],\n",
        "    'Alice': [79, 85, 92, 75, 86],\n",
        "    'Bob': [80, 85, 77, 90, 82],\n",
        "    'Emma': [88, 90, 95, 92, 89],\n",
        "    'Mike': [75, 68, 72, 65, 70]\n",
        "}\n",
        "\n",
        "# Calculate average marks for each student\n",
        "average_marks = {student: sum(marks) / len(marks) for student, marks in student_marks.items()}\n",
        "\n",
        "# Find student with maximum and minimum average marks\n",
        "max_student = max(average_marks, key=average_marks.get)\n",
        "min_student = min(average_marks, key=average_marks.get)\n",
        "\n",
        "# Print results\n",
        "print(f\"Student with maximum average marks: {max_student}, Average marks: {average_marks[max_student]:.2f}\")\n",
        "print(f\"Student with minimum average marks: {min_student}, Average marks: {average_marks[min_student]:.2f}\")\n"
      ],
      "metadata": {
        "colab": {
          "base_uri": "https://localhost:8080/"
        },
        "id": "R3BUYuIyjAj9",
        "outputId": "eae17e0d-ae38-43c3-d47d-f15e7ad80ab9"
      },
      "execution_count": null,
      "outputs": [
        {
          "output_type": "stream",
          "name": "stdout",
          "text": [
            "Student with maximum average marks: Emma, Average marks: 90.80\n",
            "Student with minimum average marks: Mike, Average marks: 70.00\n"
          ]
        }
      ]
    },
    {
      "cell_type": "code",
      "source": [],
      "metadata": {
        "id": "J7VHsSXkjAv1"
      },
      "execution_count": null,
      "outputs": []
    },
    {
      "cell_type": "code",
      "source": [],
      "metadata": {
        "id": "f2Q1vfGMjA0E"
      },
      "execution_count": null,
      "outputs": []
    }
  ]
}